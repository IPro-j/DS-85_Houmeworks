{
  "cells": [
    {
      "cell_type": "markdown",
      "metadata": {
        "id": "ofPEqxFz2fT0"
      },
      "source": [
        "# Домашнее задание к лекции \"Основы Python\""
      ]
    },
    {
      "cell_type": "markdown",
      "metadata": {
        "id": "s6e3qhfm2fT6"
      },
      "source": [
        "## Задание 1"
      ]
    },
    {
      "cell_type": "markdown",
      "metadata": {
        "id": "YD3HjIyN2fT7"
      },
      "source": [
        "Даны 2 переменных, в которых хранятся строки произвольной длины: *phrase_1* и *phrase_2*.  \n",
        "Напишите код, который проверяет какая из этих строк длиннее."
      ]
    },
    {
      "cell_type": "code",
      "execution_count": null,
      "metadata": {
        "colab": {
          "base_uri": "https://localhost:8080/"
        },
        "id": "x8mKExzi2fT8",
        "outputId": "c9a2f36f-57ae-4258-8db1-97e2f876668f"
      },
      "outputs": [
        {
          "output_type": "stream",
          "name": "stdout",
          "text": [
            "Фраза 1 длиннее фразы 2\n",
            "Фраза 2 длиннее фразы 1\n",
            "Фразы равной длины\n"
          ]
        }
      ],
      "source": [
        "\n",
        "def str_len_compare(phrase_1, phrase_2):\n",
        "    if len(phrase_1) > len(phrase_2):\n",
        "        return('Фраза 1 длиннее фразы 2')\n",
        "    elif len(phrase_2) > len(phrase_1):\n",
        "        return('Фраза 2 длиннее фразы 1')\n",
        "    return('Фразы равной длины')\n",
        "    \n",
        "\n",
        "phrase_1 = 'Насколько проще было бы писать программы, если бы не заказчики'\n",
        "phrase_2 = '640Кб должно хватить для любых задач. Билл Гейтс (по легенде)'\n",
        "print(str_len_compare(phrase_1, phrase_2)) \n",
        "\n",
        "phrase_1 = '640Кб должно хватить для любых задач. Билл Гейтс (по легенде)'\n",
        "phrase_2 = 'Насколько проще было бы писать программы, если бы не заказчики'\n",
        "print(str_len_compare(phrase_1, phrase_2)) \n",
        "\n",
        "phrase_1 = 'Насколько проще было бы писать программы, если бы не заказчики'\n",
        "phrase_2 = 'Насколько проще было бы писать программы, если бы не заказчики'\n",
        "print(str_len_compare(phrase_1, phrase_2)) \n"
      ]
    },
    {
      "cell_type": "markdown",
      "metadata": {
        "id": "IoEZH1gJ2fT-"
      },
      "source": [
        "## Задание 2"
      ]
    },
    {
      "cell_type": "markdown",
      "metadata": {
        "id": "eb7Osvpk2fT_"
      },
      "source": [
        "Дана переменная, в которой хранится число (год). Необходимо написать программу, которая выведет, является ли данный год високосным или обычным.\n",
        "\n",
        "Пример работы программы:\n",
        "1.  \n",
        "\n",
        "```\n",
        "year = 2020\n",
        "```\n",
        "Результат:  \n",
        "`Високосный год` \n",
        "\n",
        "2.  \n",
        "\n",
        "```\n",
        "year = 2019\n",
        "```\n",
        "Результат:  \n",
        "`Обычный год` "
      ]
    },
    {
      "cell_type": "code",
      "execution_count": null,
      "metadata": {
        "colab": {
          "base_uri": "https://localhost:8080/"
        },
        "id": "-0APW9IN2fT_",
        "outputId": "c7d302f4-e4c9-427f-babd-2afe3e436866"
      },
      "outputs": [
        {
          "output_type": "stream",
          "name": "stdout",
          "text": [
            "Введите год: 2000\n",
            "Високосный год\n"
          ]
        }
      ],
      "source": [
        "'''\n",
        "обычный год не кратен 4м, за исключением кратности 100, но не кратности 400\n",
        "'''\n",
        "year = int(input('Введите год: '))\n",
        " \n",
        "print('Обычный год') if year % 4 != 0 or (year % 100 == 0 and year % 400 != 0) else print('Високосный год')"
      ]
    },
    {
      "cell_type": "markdown",
      "metadata": {
        "id": "wM9DoVkM2fUA"
      },
      "source": [
        "## Задание 3"
      ]
    },
    {
      "cell_type": "markdown",
      "metadata": {
        "id": "Bqz11tO92fUA"
      },
      "source": [
        "Необходимо написать программу, которая будет запрашивать у пользователя месяц и дату рождения и выводить соответствующий знак зодиака.\n",
        "\n",
        "Пример работы программы:  \n",
        "1.  \n",
        "\n",
        "```\n",
        "Введите день:\n",
        "30\n",
        "\n",
        "Введите месяц:\n",
        "Август\n",
        "```\n",
        "Результат:  \n",
        "`Ваш знак зодиака: Дева` \n",
        "\n",
        "2.  \n",
        "\n",
        "```\n",
        "Введите день:\n",
        "29\n",
        "\n",
        "Введите месяц:\n",
        "Октябрь\n",
        "```\n",
        "Результат:  \n",
        "`Ваш знак зодиака: Скорпион` \n"
      ]
    },
    {
      "cell_type": "code",
      "execution_count": null,
      "metadata": {
        "id": "Tr6GRi6m2fUA"
      },
      "outputs": [],
      "source": [
        "'''\n",
        "в каждом месяце два знака зодиак.\n",
        "словарь месяцев содержит кол-во дней в месяце для проверки корректности даты, \n",
        "число перехода знаков, ну и эти знаки \n",
        "'''\n",
        "\n",
        "zodiak = {'Март' : [31, 21, 'Рыбы', 'Овен'], 'Апрель' : [30, 21, 'Овен', 'Телец'],\n",
        "            'Май' : [31, 21, 'Телец', 'Близнецы'], 'Июнь' : [30, 21, 'Близнецы', 'Рак'],\n",
        "            'Июль' : [31, 22, 'Рак', 'Лев'], 'Август' : [31, 23, 'Лев', 'Дева'],\n",
        "            'Сентябрь' : [30, 23, 'Дева', 'Весы'], 'Октябрь' : [31, 23, 'Весы', 'Скорпион'],\n",
        "            'Ноябрь' : [30, 22, 'Скорпион', 'Стрелец'], 'Декабрь' : [31, 22, 'Стрелец', 'Козерог'],\n",
        "            'Январь' : [31, 20, 'Козерог', 'Водолей'], 'Февраль' : [29, 19, 'Водолей', 'Рыбы'],\n",
        "          }\n",
        "\n",
        "day = int(input('Введите день: '))\n",
        "month = input('Введите месяц: ')\n",
        "\n",
        "if day > 0 and month in zodiak and day <= zodiak[month][0]:\n",
        "    if day <= zodiak[month][1]:\n",
        "        print('Ваш знак зодиака:', zodiak[month][2])\n",
        "    else:\n",
        "        print('Ваш знак зодиака:', zodiak[month][3])\n",
        "else:\n",
        "    print('Некорректная дата')"
      ]
    },
    {
      "cell_type": "markdown",
      "metadata": {
        "id": "VxaaOTZ02fUB"
      },
      "source": [
        "## Задание 4"
      ]
    },
    {
      "cell_type": "markdown",
      "metadata": {
        "id": "GXEnqG5v2fUB"
      },
      "source": [
        "Вам нужно написать программу для подбора упаковок по размерам товара. Размеры (ширина, длина, высота) хранятся в переменных (в сантиметрах):\n",
        "\n",
        "Используйте следующие правила:\n",
        "- если каждое из трех измерений менее или равно 15 сантиметрам, то выведите на экран \"Коробка №1\";\n",
        "- если **хотя бы одно** из измерений больше 2 метров, то выводите \"Упаковка для лыж\";\n",
        "- если **хотя бы одно** из измерений больше 15 сантиметров, но менее 50 сантиметров, то выводите \"Коробка №2\";\n",
        "- во всех остальных случаях выводите \"Коробка №3\".\n",
        "\n",
        "Пример работы программы:  \n",
        "1.  \n",
        "\n",
        "```\n",
        "width = 15\n",
        "length = 55\n",
        "height = 15\n",
        "```\n",
        "Результат:  \n",
        "`Стандартная коробка №3` \n",
        "\n",
        "2.  \n",
        "\n",
        "```\n",
        "width = 45\n",
        "length = 205\n",
        "height = 45\n",
        "```\n",
        "Результат:  \n",
        "`Ищите упаковку для лыж` "
      ]
    },
    {
      "cell_type": "code",
      "execution_count": null,
      "metadata": {
        "id": "0FXhsqD32fUB",
        "outputId": "f7787b9e-8b5c-4967-fb52-1a003d574222",
        "colab": {
          "base_uri": "https://localhost:8080/"
        }
      },
      "outputs": [
        {
          "output_type": "stream",
          "name": "stdout",
          "text": [
            "Коробка №2\n",
            "Коробка №3\n",
            "Упаковка для лыж\n",
            "Коробка №1\n"
          ]
        }
      ],
      "source": [
        "\n",
        "def box_finder(width, length, height):\n",
        "    \n",
        "    if width <= 15 and length <= 15 and height <= 15:\n",
        "        return('Коробка №1')\n",
        "    elif width > 200 or length > 200 or height > 200:\n",
        "        return('Упаковка для лыж')\n",
        "    elif width < 50 and length < 50 and height < 50:\n",
        "        return('Коробка №2')\n",
        "    \n",
        "    return('Коробка №3')\n",
        "\n",
        "\n",
        "width = 15\n",
        "length = 49\n",
        "height = 15\n",
        "print(box_finder(width, length, height))\n",
        "\n",
        "width = 15\n",
        "length = 55\n",
        "height = 15\n",
        "print(box_finder(width, length, height))\n",
        "\n",
        "width = 45\n",
        "length = 205\n",
        "height = 45\n",
        "print(box_finder(width, length, height))\n",
        "\n",
        "width = 15\n",
        "length = 15\n",
        "height = 15\n",
        "print(box_finder(width, length, height))\n",
        "       \n"
      ]
    },
    {
      "cell_type": "markdown",
      "metadata": {
        "id": "SI-OPJGG2fUC"
      },
      "source": [
        "## Задание 5 (необязательное)"
      ]
    },
    {
      "cell_type": "markdown",
      "metadata": {
        "id": "eyM-xek82fUC"
      },
      "source": [
        "Дана переменная, в которой хранится шестизначное число (номер проездного билета). Напишите программу, которая будет определять, является ли данный билет \"счастливым\". Билет считается счастливым, если сумма первых трех цифр совпадает с суммой последних трех цифр номера.   \n",
        "\n",
        "Примеры работы программы:  \n",
        "1. ```number = 123456```\n",
        "\n",
        "Результат:  \n",
        "`Несчастливый билет`  \n",
        "  \n",
        "2. ```number = 123321```\n",
        "\n",
        "Результат:  \n",
        "`Счастливый билет`\n"
      ]
    },
    {
      "cell_type": "code",
      "execution_count": null,
      "metadata": {
        "id": "zxNLWyj_2fUC",
        "outputId": "852ac677-c8ca-41ba-cbf3-8ca536b62e54",
        "colab": {
          "base_uri": "https://localhost:8080/"
        }
      },
      "outputs": [
        {
          "output_type": "stream",
          "name": "stdout",
          "text": [
            "Увы...\n",
            "Счастливый билет\n"
          ]
        }
      ],
      "source": [
        "def happy_ticket(number):\n",
        "    first_part_sum = number//100000 + number//10000%10 + number//1000%10\n",
        "    second_part_sum = number%1000//100 + number%100//10 + number%10\n",
        "    return('Счастливый билет' if first_part_sum == second_part_sum else 'Увы...')\n",
        "\n",
        "\n",
        "number = 123009\n",
        "print(happy_ticket(number))\n",
        "\n",
        "number = 123321\n",
        "print(happy_ticket(number))\n"
      ]
    },
    {
      "cell_type": "markdown",
      "metadata": {
        "id": "ItgSzetF2fUC"
      },
      "source": [
        "## Задание 6 (необязательное)"
      ]
    },
    {
      "cell_type": "markdown",
      "metadata": {
        "id": "VXnDaRvg2fUD"
      },
      "source": [
        "Напишите программу, которая сможет вычислять площади трех фигур (круг, треугольник и прямоугольник).\n",
        "Тип фигуры запрашиваем через пользовательский ввод, после чего делаем запрос характеристик фигуры:\n",
        "\n",
        "- если пользователь выбрал круг, запрашиваем его радиус,\n",
        "- если треугольник – длины трех его сторон;\n",
        "- если прямоугольник – длины двух его сторон.\n",
        "\n",
        "Пример работы программы:  \n",
        "1.  \n",
        "\n",
        "```\n",
        "Введите тип фигуры:\n",
        "Круг\n",
        "\n",
        "Введите радиус круга:\n",
        "10\n",
        "```\n",
        "Результат:  \n",
        "`Площадь круга: 314.16`  \n",
        "\n",
        "2.  \n",
        "\n",
        "```\n",
        "Введите тип фигуры:\n",
        "Треугольник\n",
        "\n",
        "Введите длину стороны A:\n",
        "2\n",
        "\n",
        "Введите длину стороны B:\n",
        "2\n",
        "\n",
        "Введите длину стороны C:\n",
        "3\n",
        "```\n",
        "Результат:  \n",
        "`Площадь треугольника: 1.98`"
      ]
    },
    {
      "cell_type": "code",
      "execution_count": 18,
      "metadata": {
        "id": "RRUWhtd52fUD",
        "colab": {
          "base_uri": "https://localhost:8080/"
        },
        "outputId": "c60f0d9f-40d6-477b-c8b2-7ed3826f3b2d"
      },
      "outputs": [
        {
          "output_type": "stream",
          "name": "stdout",
          "text": [
            "Введите тип фигуры: Прямоугольник\n",
            "Введите длину стороны A: 2\n",
            "Введите длину стороны B4\n",
            "Площадь прямоугольника: 8\n"
          ]
        }
      ],
      "source": [
        "from math import pi\n",
        "\n",
        "\n",
        "def circle_area(parameters):\n",
        "    return('Площадь круга: %s' % round(pi*(parameters[0]**2), 2))\n",
        "\n",
        "\n",
        "def triangle_area(parameters):\n",
        "    half_meter = (parameters[0] + parameters[1] + parameters[2]) / 2 \n",
        "    area = (half_meter * (half_meter - parameters[0]) * (half_meter - parameters[1]) * (half_meter - parameters[2]))**0.5\n",
        "    return('Площадь треугольника: %s' % round(area, 2))\n",
        "\n",
        "\n",
        "def rectangle_area(parameters):\n",
        "    return('Площадь прямоугольника: %s' % round(parameters[0]*parameters[1] , 2))\n",
        "\n",
        "\n",
        "area_type = { 'Треугольник' : [['Введите длину стороны A: ', 'Введите длину стороны B: ', 'Введите длину стороны C: ',], triangle_area, ],\n",
        "            'Круг' : [['Введите радиус круга: '], circle_area, ],\n",
        "            'Прямоугольник' : [['Введите длину стороны A: ', 'Введите длину стороны B',], rectangle_area],\n",
        "            }\n",
        "\n",
        "figure = input('Введите тип фигуры: ')\n",
        "\n",
        "if figure in area_type:\n",
        "    parameters = []\n",
        "    for p in area_type[figure][0]:\n",
        "        parameters.append(int(input(p)))\n",
        "    print(area_type[figure][1](parameters))\n",
        "else:\n",
        "    print('Тип фигуры не опознан')\n",
        "\n",
        "    "
      ]
    },
    {
      "cell_type": "markdown",
      "metadata": {
        "id": "N_auWYyr2fUD"
      },
      "source": [
        "#### ПРИМЕЧАНИЕ\n",
        "Домашнее задание сдается ссылкой [Google Colab](https://colab.research.google.com/).\n",
        "Не сможем проверить или помочь, если вы пришлете:\n",
        "- файлы;\n",
        "- архивы;\n",
        "- скриншоты кода.\n",
        "\n",
        "Все обсуждения и консультации по выполнению домашнего задания ведутся только на соответствующем канале в slack.\n",
        "\n",
        "##### Как правильно задавать вопросы аспирантам, преподавателям и коллегам\n",
        "Прежде чем задать вопрос, попробуйте найти ответ в интернете. Навык самостоятельного поиска информации — один из важнейших. Каждый практикующий специалист любого уровня делает это ежедневно.\n",
        "\n",
        "Сформулируйте вопрос по алгоритму:  \n",
        "1) Что я делаю?  \n",
        "2) Какого результата я ожидаю?  \n",
        "3) Как фактический результат отличается от ожидаемого?  \n",
        "4) Что я уже попробовал сделать, чтобы исправить проблему?  \n",
        "\n",
        "По возможности прикрепите к вопросу скриншоты либо ссылки на код. Не выкладывайте все решение, оставляйте только проблемный и воспроизводимый участок кода."
      ]
    }
  ],
  "metadata": {
    "kernelspec": {
      "display_name": "Python 3 (ipykernel)",
      "language": "python",
      "name": "python3"
    },
    "language_info": {
      "codemirror_mode": {
        "name": "ipython",
        "version": 3
      },
      "file_extension": ".py",
      "mimetype": "text/x-python",
      "name": "python",
      "nbconvert_exporter": "python",
      "pygments_lexer": "ipython3",
      "version": "3.10.9"
    },
    "colab": {
      "provenance": []
    }
  },
  "nbformat": 4,
  "nbformat_minor": 0
}