{
  "cells": [
    {
      "cell_type": "markdown",
      "metadata": {
        "id": "kCjQ-KtKokG6"
      },
      "source": [
        "# Домашнее задание к лекции \"Введение в типы данных и циклы. Часть 1\""
      ]
    },
    {
      "cell_type": "markdown",
      "metadata": {
        "id": "9rx62pNuokG_"
      },
      "source": [
        "-## Задание 1\n",
        "Дана переменная, в которой хранится слово из латинских букв. Напишите код, который выводит на экран:\n",
        "- среднюю букву, если число букв в слове нечетное;\n",
        "- две средних буквы, если число букв четное.\n",
        "\n",
        "Примеры работы программы:  \n",
        "1. `word = 'test'`\n",
        "\n",
        "Результат:  \n",
        "`es`  \n",
        "  \n",
        "2.     \n",
        "`word = 'testing'`\n",
        "\n",
        "Результат:  \n",
        "`t`"
      ]
    },
    {
      "cell_type": "code",
      "source": [
        "\n",
        "def even_odd_word(word):\n",
        "  \"\"\"\n",
        "  выводит на экран:\n",
        "  среднюю букву, если число букв в слове нечетное;\n",
        "  две средних буквы, если число букв четное.\n",
        "  \"\"\"\n",
        "  return(word[len(word)//2+1] ) if len(word)%2 > 0 else (word[len(word)//2-1: len(word)//2+1])\n",
        "\n",
        "\n",
        "word = 'testing'\n",
        "print(even_odd_word(word))\n",
        "\n",
        "word = 'test'\n",
        "print(even_odd_word(word))"
      ],
      "metadata": {
        "colab": {
          "base_uri": "https://localhost:8080/"
        },
        "id": "p0nKzWb1o32v",
        "outputId": "780b706c-df60-46ea-d796-78fb57bb70ef"
      },
      "execution_count": null,
      "outputs": [
        {
          "output_type": "stream",
          "name": "stdout",
          "text": [
            "i\n",
            "es\n"
          ]
        }
      ]
    },
    {
      "cell_type": "markdown",
      "metadata": {
        "id": "3BwzwEsxokHB"
      },
      "source": [
        "## Задание 2\n",
        "Напишите программу, которая последовательно запрашивает у пользователя числа (по одному за раз) и после первого нуля выводит сумму всех ранее введенных чисел.\n",
        "\n",
        "Примеры работы программы:  \n",
        "1.   \n",
        "\n",
        "```\n",
        "Введите число:  \n",
        "1\n",
        "\n",
        "Введите число:  \n",
        "4\n",
        "\n",
        "Введите число:  \n",
        "6\n",
        "\n",
        "Введите число:  \n",
        "0\n",
        "```\n",
        "\n",
        "Результат:  \n",
        "`11`\n",
        "\n",
        "2.      \n",
        "\n",
        "```\n",
        "Введите число:  \n",
        "0\n",
        "```  \n",
        "\n",
        "Результат:  \n",
        "`0`"
      ]
    },
    {
      "cell_type": "code",
      "source": [
        "\n",
        "summa = 0\n",
        "\n",
        "while(i:=int(input('Введите число: '))):\n",
        "  summa += i\n",
        "\n",
        "print('Результат: ', summa)"
      ],
      "metadata": {
        "colab": {
          "base_uri": "https://localhost:8080/"
        },
        "id": "RETHKXfDzfCI",
        "outputId": "e5a4c632-67e1-4ad7-a2b0-4221c89abf93"
      },
      "execution_count": 1,
      "outputs": [
        {
          "output_type": "stream",
          "name": "stdout",
          "text": [
            "Введите число: 5\n",
            "Введите число: 55\n",
            "Введите число: 99\n",
            "Введите число: 0\n",
            "Результат:  159\n"
          ]
        }
      ]
    },
    {
      "cell_type": "markdown",
      "metadata": {
        "id": "UWInyp-qokHB"
      },
      "source": [
        "## Задание 3\n",
        "\n",
        "Мы делаем [MVP](https://ru.wikipedia.org/wiki/%D0%9C%D0%B8%D0%BD%D0%B8%D0%BC%D0%B0%D0%BB%D1%8C%D0%BD%D0%BE_%D0%B6%D0%B8%D0%B7%D0%BD%D0%B5%D1%81%D0%BF%D0%BE%D1%81%D0%BE%D0%B1%D0%BD%D1%8B%D0%B9_%D0%BF%D1%80%D0%BE%D0%B4%D1%83%D0%BA%D1%82) dating-сервиса, и у нас есть список парней и девушек.  \n",
        "Выдвигаем гипотезу: лучшие рекомендации мы получим, если просто отсортируем имена по алфавиту и познакомим людей с одинаковыми индексами после сортировки!\n",
        "Но мы не будем никого знакомить, если кто-то может остаться без пары:\n",
        "\n",
        "Примеры работы программы:  \n",
        "1.  \n",
        "\n",
        "```\n",
        "boys = ['Peter', 'Alex', 'John', 'Arthur', 'Richard']\n",
        "girls = ['Kate', 'Liza', 'Kira', 'Emma', 'Trisha']\n",
        "```\n",
        "\n",
        "Результат:  \n",
        "```\n",
        "Идеальные пары:  \n",
        "Alex и Emma  \n",
        "Arthur и Kate  \n",
        "John и Kira  \n",
        "Peter и Liza  \n",
        "Richard и Trisha \n",
        "```\n",
        "2.     \n",
        "\n",
        "```\n",
        "boys = ['Peter', 'Alex', 'John', 'Arthur', 'Richard', 'Michael']\n",
        "girls = ['Kate', 'Liza', 'Kira', 'Emma', 'Trisha']\n",
        "```\n",
        "\n",
        "Результат:  \n",
        "`Внимание, кто-то может остаться без пары!`"
      ]
    },
    {
      "cell_type": "code",
      "source": [
        "def meeting_service(boys, girls):\n",
        "  if len(boys) != len(girls):\n",
        "    return('Внимание, кто-то может остаться без пары!')\n",
        "  boys.sort()\n",
        "  girls.sort()\n",
        "  print('Идеальные пары: ')\n",
        "  for i in range(len(boys) ):\n",
        "    print('%s и %s' % (boys[i], girls[i]))\n",
        "\n",
        "\n",
        "\n",
        "boys = ['Peter', 'Alex', 'John', 'Arthur', 'Richard']\n",
        "girls = ['Kate', 'Liza', 'Kira', 'Emma', 'Trisha']  \n",
        "meeting_service(boys, girls)\n",
        "\n",
        "\n",
        "boys = ['Peter', 'Alex', 'John', 'Arthur', 'Richard', 'Michael']\n",
        "girls = ['Kate', 'Liza', 'Kira', 'Emma', 'Trisha']\n",
        "meeting_service(boys, girls)"
      ],
      "metadata": {
        "colab": {
          "base_uri": "https://localhost:8080/",
          "height": 140
        },
        "id": "2n1YqgZdzdb4",
        "outputId": "bc29e4ac-3d36-41ff-e445-35cafc0eae86"
      },
      "execution_count": null,
      "outputs": [
        {
          "output_type": "stream",
          "name": "stdout",
          "text": [
            "Идеальные пары: \n",
            "Alex и Emma\n",
            "Arthur и Kate\n",
            "John и Kira\n",
            "Peter и Liza\n",
            "Richard и Trisha\n"
          ]
        },
        {
          "output_type": "execute_result",
          "data": {
            "text/plain": [
              "'Внимание, кто-то может остаться без пары!'"
            ],
            "application/vnd.google.colaboratory.intrinsic+json": {
              "type": "string"
            }
          },
          "metadata": {},
          "execution_count": 3
        }
      ]
    },
    {
      "cell_type": "markdown",
      "metadata": {
        "id": "3W8SJcIQokHC"
      },
      "source": [
        "## Задание 4\n",
        "\n",
        "У нас есть список, содержащий информацию о среднедневной температуре в Фаренгейтах за произвольный период по странам (структура данных в примере).\n",
        "Необходимо написать код, который рассчитает среднюю температуру за период в Цельсиях(!) для каждой страны.\n",
        "\n",
        "Пример работы программы:  \n",
        "```\n",
        "countries_temperature = [\n",
        "    ['Таиланд', [75.2, 77, 78.8, 73.4, 68, 75.2, 77]],\n",
        "    ['Германия', [57.2, 55.4, 59, 59, 53.6]],\n",
        "    ['Россия', [35.6, 37.4, 39.2, 41, 42.8, 39.2, 35.6]],\n",
        "    ['Польша', [50, 50, 53.6, 57.2, 55.4, 55.4]]\n",
        "]\n",
        "```\n",
        "\n",
        "Результат:  \n",
        "```\n",
        "Средняя температура в странах:\n",
        "Таиланд  -  23.9 С\n",
        "Германия  -  13.8 С\n",
        "Россия  -  3.7 С\n",
        "Польша  -  12.0 С\n",
        "```"
      ]
    },
    {
      "cell_type": "code",
      "source": [
        "\"\"\"\n",
        " C = (F - 32) / 1.8\n",
        "\"\"\"\n",
        "\n",
        "\n",
        "from statistics import mean\n",
        "\n",
        "\n",
        "def f_to_c(f):\n",
        "  return((f - 32) / 1.8)\n",
        "\n",
        "\n",
        "countries_temperature = [\n",
        "    ['Таиланд', [75.2, 77, 78.8, 73.4, 68, 75.2, 77]],\n",
        "    ['Германия', [57.2, 55.4, 59, 59, 53.6]],\n",
        "    ['Россия', [35.6, 37.4, 39.2, 41, 42.8, 39.2, 35.6]],\n",
        "    ['Польша', [50, 50, 53.6, 57.2, 55.4, 55.4]]\n",
        "]\n",
        "\n",
        "print('Средняя температура в странах: ')\n",
        "for country in countries_temperature:\n",
        "  print( f'{country[0]} - {round(f_to_c(mean(country[1])),1)} C')\n",
        "\n",
        "\n",
        "\n"
      ],
      "metadata": {
        "colab": {
          "base_uri": "https://localhost:8080/"
        },
        "id": "G5z5z0TU7Vwo",
        "outputId": "4222b5a5-89cb-42ce-ee68-5b8e5e517750"
      },
      "execution_count": null,
      "outputs": [
        {
          "output_type": "stream",
          "name": "stdout",
          "text": [
            "Средняя температура в странах: \n",
            "Таиланд - 23.9 C\n",
            "Германия - 13.8 C\n",
            "Россия - 3.7 C\n",
            "Польша - 12.0 C\n"
          ]
        }
      ]
    },
    {
      "cell_type": "markdown",
      "metadata": {
        "id": "YN0Un_xIokHD"
      },
      "source": [
        "## Задание 5 (необязательное)\n",
        "\n",
        "Имеется список с транспортными номерами. Необходимо написать код, который проверит каждый номер на валидность (1 буква, 3 цифры, 2 буквы, 2-3 цифры). Обратите внимание, что не все буквы кириллического алфавита используются в транспортных номерах.\n",
        "\n",
        "Если номер валиден, то вывести его в нужном формавте (пример ниже), а если не валиден — вывести текст. При решении помогут регулярные выражения, с которыми будет знакомство на практике.\n",
        "\n",
        "Примеры работы программы:  \n",
        "\n",
        "`car_ids = ['А222ВС96', 'АБ22ВВ193']`\n",
        "\n",
        "Результат: \n",
        "```\n",
        "Номер А222ВС валиден. Регион: 96\n",
        "Номер АБ22ВВ193 не валиден\n",
        "```"
      ]
    },
    {
      "cell_type": "code",
      "source": [
        "import re\n",
        "\n",
        "\n",
        "def transport_num_validator(car_id):\n",
        "  letters = 'АВЕКМНОРСТУХ'\n",
        "  pattern1 = f'[{letters}]\\d\\d\\d[{letters}][{letters}]\\d\\d'\n",
        "  pattern2 = f'[{letters}]\\d\\d\\d[{letters}][{letters}]\\d\\d\\d'\n",
        "  if re.fullmatch(pattern1, car_id) or re.fullmatch(pattern2, car_id): \n",
        "    return('Номер %s валиден. Регион: %s' % (car_id[:6], car_id[6:]))\n",
        "  return('Номер %s не валиден: ' % car_id)\n",
        "\n",
        "\n",
        "car_ids = ['А222ВС96', 'АБ22ВВ193', 'А973АВ154']\n",
        "\n",
        "for ids in  car_ids:\n",
        "  print(transport_num_validator(ids))\n",
        "\n",
        "  \n",
        "  "
      ],
      "metadata": {
        "id": "ABGjC4K_Au2h",
        "colab": {
          "base_uri": "https://localhost:8080/"
        },
        "outputId": "4fc70f8c-68dc-4d09-cad3-59ac623ffbb1"
      },
      "execution_count": null,
      "outputs": [
        {
          "output_type": "stream",
          "name": "stdout",
          "text": [
            "Номер А222ВС валиден. Регион: 96\n",
            "Номер АБ22ВВ193 не валиден: \n",
            "Номер А973АВ валиден. Регион: 154\n"
          ]
        }
      ]
    },
    {
      "cell_type": "markdown",
      "metadata": {
        "id": "Umgf-NoEokHE"
      },
      "source": [
        "## Задание 6 (необязательное)\n",
        "\n",
        "Дан поток логов по количеству просмотренных страниц для каждого пользователя (`пользователь,дата;просмотры`). Вам необходимо написать алгоритм, который считает среднее значение просмотров на пользователя. \n",
        "Т. е. надо посчитать отношение суммы всех просмотров к количеству уникальных пользователей. И тут регулярные выражения облегчат немного реализацию.\n",
        "\n",
        "Примеры работы программы:  \n",
        "1.  \n",
        "\n",
        "```\n",
        "stream = [\n",
        "    'user4,2021-01-01;3',\n",
        "    'user3,2022-01-07;4',\n",
        "    'user2,2022-03-29;1',\n",
        "    'user1,2020-04-04;13',\n",
        "    'user2,2022-01-05;7',\n",
        "    'user1,2021-06-14;4',\n",
        "    'user3,2022-07-02;10',\n",
        "    'user4,2021-03-21;19',\n",
        "    'user4,2022-03-22;4',\n",
        "    'user4,2022-04-22;8',\n",
        "    'user4,2021-05-03;9',\n",
        "    'user4,2022-05-11;11'\n",
        "]\n",
        "```\n",
        "\n",
        "Результат:  \n",
        "`Среднее количество просмотров на уникального пользователя: 23.25`  \n",
        "\n",
        "2.     \n",
        "\n",
        "```\n",
        "stream = [\n",
        "    'user100,2022-01-01;150',\n",
        "    'user99,2022-01-07;205',\n",
        "    'user1001,2022-03-29;81'\n",
        "]\n",
        "```\n",
        "\n",
        "Результат:  \n",
        "`Среднее количество просмотров на уникального пользователя: 145.33`"
      ]
    },
    {
      "cell_type": "code",
      "source": [
        "\n",
        "def viewing_counter(stream):\n",
        "  viewing_count = 0\n",
        "  viewers = []\n",
        "  for s in stream:\n",
        "    viewing_count += int(s.split(';')[1])\n",
        "    if s.split(',')[0] not in viewers:\n",
        "      viewers.append(s.split(',')[0])\n",
        "  return('Среднее количество просмотров на уникального пользователя: ', viewing_count/len( viewers))\n",
        "\n",
        "\n",
        "stream = [\n",
        "    'user4,2021-01-01;3',\n",
        "    'user3,2022-01-07;4',\n",
        "    'user2,2022-03-29;1',\n",
        "    'user1,2020-04-04;13',\n",
        "    'user2,2022-01-05;7',\n",
        "    'user1,2021-06-14;4',\n",
        "    'user3,2022-07-02;10',\n",
        "    'user4,2021-03-21;19',\n",
        "    'user4,2022-03-22;4',\n",
        "    'user4,2022-04-22;8',\n",
        "    'user4,2021-05-03;9',\n",
        "    'user4,2022-05-11;11'\n",
        "]\n",
        "\n",
        "print(viewing_counter(stream))\n",
        "\n",
        "\n",
        "stream = [\n",
        "    'user100,2022-01-01;150',\n",
        "    'user99,2022-01-07;205',\n",
        "    'user1001,2022-03-29;81'\n",
        "]\n",
        "\n",
        "print(viewing_counter(stream))"
      ],
      "metadata": {
        "colab": {
          "base_uri": "https://localhost:8080/"
        },
        "id": "m4IMTPHi5VYz",
        "outputId": "b8c3c640-0d1b-467f-8f73-96d5f186d000"
      },
      "execution_count": null,
      "outputs": [
        {
          "output_type": "stream",
          "name": "stdout",
          "text": [
            "('Среднее количество просмотров на уникального пользователя: ', 23.25)\n",
            "('Среднее количество просмотров на уникального пользователя: ', 145.33333333333334)\n"
          ]
        }
      ]
    },
    {
      "cell_type": "markdown",
      "metadata": {
        "id": "WgxCgfGBokHE"
      },
      "source": [
        "#### ПРИМЕЧАНИЕ\n",
        "Домашнее задание сдается ссылкой [Google Colab](https://colab.research.google.com/).\n",
        "Не сможем проверить или помочь, если вы пришлете:\n",
        "- файлы;\n",
        "- архивы;\n",
        "- скриншоты кода.\n",
        "\n",
        "Все обсуждения и консультации по выполнению домашнего задания ведутся только на соответствующем канале в slack.\n",
        "\n",
        "##### Как правильно задавать вопросы аспирантам, преподавателям и коллегам\n",
        "Прежде чем задать вопрос, попробуйте найти ответ в интернете. Навык самостоятельного поиска информации — один из важнейших. Каждый практикующий специалист любого уровня делает это ежедневно.\n",
        "\n",
        "Сформулируйте вопрос по алгоритму:  \n",
        "1) Что я делаю?  \n",
        "2) Какого результата я ожидаю?  \n",
        "3) Как фактический результат отличается от ожидаемого?  \n",
        "4) Что я уже попробовал сделать, чтобы исправить проблему?  \n",
        "\n",
        "По возможности прикрепите к вопросу скриншоты либо ссылки на код. Не выкладывайте все решение, оставляйте только проблемный и воспроизводимый участок кода.\n"
      ]
    }
  ],
  "metadata": {
    "kernelspec": {
      "display_name": "Python 3",
      "language": "python",
      "name": "python3"
    },
    "language_info": {
      "codemirror_mode": {
        "name": "ipython",
        "version": 3
      },
      "file_extension": ".py",
      "mimetype": "text/x-python",
      "name": "python",
      "nbconvert_exporter": "python",
      "pygments_lexer": "ipython3",
      "version": "3.8.5"
    },
    "colab": {
      "provenance": [],
      "toc_visible": true
    }
  },
  "nbformat": 4,
  "nbformat_minor": 0
}